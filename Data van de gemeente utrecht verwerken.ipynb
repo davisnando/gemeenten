{
 "cells": [
  {
   "cell_type": "markdown",
   "metadata": {},
   "source": [
    "## Importeren van de data\n",
    "\n",
    "Als eerste moeten we de data importen. We openen daarvoor de csv file en zetten de data in verschillende variabelen:\n",
    "\n",
    "* columns is een dictionary die de naam van de kolom vertaalt naar de index voor de data array\n",
    "* rows is een list van elke rij die als een list is opgeslagen\n",
    "* data is een dictionary van de index van de kolom naar een lijst van data voor die kolom"
   ]
  },
  {
   "cell_type": "code",
   "execution_count": 2,
   "metadata": {},
   "outputs": [
    {
     "name": "stdout",
     "output_type": "stream",
     "text": [
      "Processed 224 lines.\n"
     ]
    }
   ],
   "source": [
    "import csv\n",
    "import numpy as np\n",
    "import matplotlib.pyplot as plt\n",
    "import math\n",
    "\n",
    "filename = 'utrecht.csv'\n",
    "\n",
    "columns = {}\n",
    "rows = []\n",
    "data = {}\n",
    "\n",
    "# hulp functie om te kijken of de waarde een integer is\n",
    "def is_number(s):\n",
    "    try:\n",
    "        int(s)\n",
    "        return True\n",
    "    except ValueError:\n",
    "        return False\n",
    "\n",
    "with open(filename) as csv_file:\n",
    "    csv_reader = csv.reader(csv_file, delimiter=';')\n",
    "    line_count = 0\n",
    "    for row in csv_reader:\n",
    "        # anders reageren als het de eerste regel is, dat zijn namelijk de kolomnamen\n",
    "        if line_count == 0:\n",
    "            line_count += 1\n",
    "            i = 0\n",
    "            for c in row:\n",
    "                columns[c] = i\n",
    "                data[i] = []\n",
    "                i += 1\n",
    "        else:\n",
    "            line_count += 1\n",
    "            # alleen importeren als het maanddata is, niet de cummulatieven over een jaar\n",
    "            if 'JJ00' in row[columns['Perioden']]:\n",
    "                pass\n",
    "            else:\n",
    "                rows.append(row)\n",
    "                i = 0\n",
    "                for c in row:\n",
    "                    if is_number(c):\n",
    "                        data[i].append(int(c))\n",
    "                    else:\n",
    "                        data[i].append(c)\n",
    "                    i = i+1\n",
    "    print(f'Processed {line_count} lines.')"
   ]
  },
  {
   "cell_type": "markdown",
   "metadata": {},
   "source": [
    "Hier printen we de namen van de kolommen zodat je kan zien welke data er in het bestand zit"
   ]
  },
  {
   "cell_type": "code",
   "execution_count": 3,
   "metadata": {},
   "outputs": [
    {
     "name": "stdout",
     "output_type": "stream",
     "text": [
      "{'\\ufeffID': 0, 'RegioS': 1, 'Perioden': 2, 'BevolkingAanHetBeginVanDePeriode_1': 3, 'LevendGeborenKinderen_2': 4, 'Overledenen_3': 5, 'TotaleVestiging_4': 6, 'VestigingVanuitEenAndereGemeente_5': 7, 'Immigratie_6': 8, 'TotaalVertrekInclAdmCorrecties_7': 9, 'VertrekNaarAndereGemeente_8': 10, 'EmigratieInclusiefAdmCorrecties_9': 11, 'OverigeCorrecties_10': 12, 'Bevolkingsgroei_11': 13, 'BevolkingsgroeiRelatief_12': 14, 'BevolkingsgroeiSinds1Januari_13': 15, 'BevolkingsgroeiSinds1JanuariRela_14': 16, 'BevolkingAanHetEindeVanDePeriode_15': 17}\n"
     ]
    }
   ],
   "source": [
    "print(columns)"
   ]
  },
  {
   "cell_type": "markdown",
   "metadata": {},
   "source": [
    "## Verwerken van de data\n",
    "\n",
    "Hier printen we de data voor alle maanden van het laatste jaar van het vertrek uit de gemeente."
   ]
  },
  {
   "cell_type": "code",
   "execution_count": 4,
   "metadata": {},
   "outputs": [
    {
     "ename": "SyntaxError",
     "evalue": "invalid syntax (<ipython-input-4-0124a92bbc8c>, line 55)",
     "output_type": "error",
     "traceback": [
      "\u001b[0;36m  File \u001b[0;32m\"<ipython-input-4-0124a92bbc8c>\"\u001b[0;36m, line \u001b[0;32m55\u001b[0m\n\u001b[0;31m    print(\"Bevolkingsgroei 95%\" + str([b_average - 2*b_standaard_deviatie, b_average + 2*b_standaard_deviatie]))\u001b[0m\n\u001b[0m        ^\u001b[0m\n\u001b[0;31mSyntaxError\u001b[0m\u001b[0;31m:\u001b[0m invalid syntax\n"
     ]
    }
   ],
   "source": [
    "# calculate modus\n",
    "def calculate_modus(dataset):\n",
    "    # tell elk getal hoe vaak het voorkomt\n",
    "    values = {}\n",
    "    for groei in dataset:\n",
    "        if groei in values:\n",
    "            values[groei] += 1\n",
    "        else:\n",
    "            values[groei] = 1\n",
    "    # pak de meest voorkomende getal\n",
    "    modus = []\n",
    "    for key, value in values.items():\n",
    "        if len(modus) == 0:\n",
    "            modus = [key, value]\n",
    "        else:\n",
    "            if modus[1] < value:\n",
    "                modus = [key, value]\n",
    "    return modus\n",
    "# calculating standaard deviatie\n",
    "def calculate_standaard_deviatie(dataset, average):\n",
    "    val = 0\n",
    "    for value in dataset:\n",
    "        val += (value - average) ** 2\n",
    "    return math.sqrt(val / len(dataset))\n",
    "\n",
    "# maak een trend lijn\n",
    "def linreg(X, Y):\n",
    "    N = len(X)\n",
    "    Sx = Sy = Sxx = Syy = Sxy = 0.0\n",
    "    for x, y in zip(X, Y):\n",
    "        Sx = Sx + x\n",
    "        Sy = Sy + y\n",
    "        Sxx = Sxx + x*x\n",
    "        Syy = Syy + y*y\n",
    "        Sxy = Sxy + x*y\n",
    "    det = Sxx * N - Sx * Sx\n",
    "    return (Sxy * N - Sy * Sx)/det, (Sxx * Sy - Sx * Sxy)/det\n",
    "print(data[columns['VertrekNaarAndereGemeente_8']][-12:-1])\n",
    "Bevolkingsgroei = data[columns['Bevolkingsgroei_11']][-13:-1]\n",
    "b = Bevolkingsgroei.copy()\n",
    "b.sort()\n",
    "b_mediaan = b[round(len(Bevolkingsgroei) / 2)]\n",
    "b_average = sum(Bevolkingsgroei) / len(Bevolkingsgroei)\n",
    "b_modus = calculate_modus(Bevolkingsgroei)\n",
    "b_standaard_deviatie = calculate_standaard_deviatie(Bevolkingsgroei, b_average)\n",
    "\n",
    "b_a,b_b = linreg(range(len(Bevolkingsgroei)),Bevolkingsgroei)\n",
    "\n",
    "trendline = [b_a*index + b_b for index in range(len(Bevolkingsgroei))]\n",
    "\n",
    "print(\"Bevolkingsgroep mediaan: \" + str(b_mediaan))\n",
    "print(\"Bevolkingsgroep Gemiddelde: \" + str(b_average))\n",
    "print(\"Bevolkingsgroep Modus: \" + str(b_modus[0]) + \" komt voor: \" + str(b_modus[1]))\n",
    "print(\"Bevolkingsgroep Standaard deviatie: \" + str(b_standaard_deviatie))\n",
    "print(\"Bevolkingsgroei 95%\" + str([b_average - 2*b_standaard_deviatie, b_average + 2*b_standaard_deviatie]))\n",
    "print(\"Bevolkingsgroei 65%\" + str([b_average - b_standaard_deviatie, b_average + b_standaard_deviatie]))\n",
    "\n",
    "dead = data[columns['Overledenen_3']][-13:-1]\n",
    "d = dead.copy()\n",
    "d.sort()\n",
    "d_mediaan = d[round(len(dead) / 2)]\n",
    "d_average = sum(dead) / len(dead)\n",
    "d_modus = calculate_modus(dead)\n",
    "d_standaard_deviatie = calculate_standaard_deviatie(dead, d_average)\n",
    "print(\"Dead mediaan: \" + str(d_mediaan))\n",
    "print(\"Dead Gemiddelde: \" + str(d_average))\n",
    "print(\"Dead Modus: \" + str(d_modus[0]) + \" komt voor: \" + str(d_modus[1]))\n",
    "print(\"Dead Standaard deviatie: \" + str(d_standaard_deviatie))\n",
    "print(\"Dead 95%\" + str([d_average - 2*d_standaard_deviatie, d_average + 2*d_standaard_deviatie]))\n",
    "print(\"Dead 65%\" + str([d_average - d_standaard_deviatie, d_average + d_standaard_deviatie]))"
   ]
  },
  {
   "cell_type": "code",
   "execution_count": 5,
   "metadata": {},
   "outputs": [
    {
     "ename": "NameError",
     "evalue": "name 'trendline' is not defined",
     "output_type": "error",
     "traceback": [
      "\u001b[0;31m---------------------------------------------------------------------------\u001b[0m",
      "\u001b[0;31mNameError\u001b[0m                                 Traceback (most recent call last)",
      "\u001b[0;32m<ipython-input-5-2082aee8492c>\u001b[0m in \u001b[0;36m<module>\u001b[0;34m\u001b[0m\n\u001b[1;32m      2\u001b[0m \u001b[0mplt\u001b[0m\u001b[0;34m.\u001b[0m\u001b[0mplot\u001b[0m\u001b[0;34m(\u001b[0m \u001b[0mdata\u001b[0m\u001b[0;34m[\u001b[0m\u001b[0mcolumns\u001b[0m\u001b[0;34m[\u001b[0m\u001b[0;34m'Perioden'\u001b[0m\u001b[0;34m]\u001b[0m\u001b[0;34m]\u001b[0m\u001b[0;34m[\u001b[0m\u001b[0;34m-\u001b[0m\u001b[0;36m13\u001b[0m\u001b[0;34m:\u001b[0m\u001b[0;34m-\u001b[0m\u001b[0;36m1\u001b[0m\u001b[0;34m]\u001b[0m\u001b[0;34m,\u001b[0m \u001b[0mdata\u001b[0m\u001b[0;34m[\u001b[0m\u001b[0mcolumns\u001b[0m\u001b[0;34m[\u001b[0m\u001b[0;34m'Bevolkingsgroei_11'\u001b[0m\u001b[0;34m]\u001b[0m\u001b[0;34m]\u001b[0m\u001b[0;34m[\u001b[0m\u001b[0;34m-\u001b[0m\u001b[0;36m13\u001b[0m\u001b[0;34m:\u001b[0m\u001b[0;34m-\u001b[0m\u001b[0;36m1\u001b[0m\u001b[0;34m]\u001b[0m\u001b[0;34m,\u001b[0m \u001b[0;34m'ro'\u001b[0m\u001b[0;34m,\u001b[0m\u001b[0mcolor\u001b[0m\u001b[0;34m=\u001b[0m\u001b[0;34m'yellow'\u001b[0m\u001b[0;34m)\u001b[0m\u001b[0;34m\u001b[0m\u001b[0;34m\u001b[0m\u001b[0m\n\u001b[1;32m      3\u001b[0m \u001b[0mplt\u001b[0m\u001b[0;34m.\u001b[0m\u001b[0mplot\u001b[0m\u001b[0;34m(\u001b[0m \u001b[0mdata\u001b[0m\u001b[0;34m[\u001b[0m\u001b[0mcolumns\u001b[0m\u001b[0;34m[\u001b[0m\u001b[0;34m'Perioden'\u001b[0m\u001b[0;34m]\u001b[0m\u001b[0;34m]\u001b[0m\u001b[0;34m[\u001b[0m\u001b[0;34m-\u001b[0m\u001b[0;36m13\u001b[0m\u001b[0;34m:\u001b[0m\u001b[0;34m-\u001b[0m\u001b[0;36m1\u001b[0m\u001b[0;34m]\u001b[0m\u001b[0;34m,\u001b[0m \u001b[0mdata\u001b[0m\u001b[0;34m[\u001b[0m\u001b[0mcolumns\u001b[0m\u001b[0;34m[\u001b[0m\u001b[0;34m'Overledenen_3'\u001b[0m\u001b[0;34m]\u001b[0m\u001b[0;34m]\u001b[0m\u001b[0;34m[\u001b[0m\u001b[0;34m-\u001b[0m\u001b[0;36m13\u001b[0m\u001b[0;34m:\u001b[0m\u001b[0;34m-\u001b[0m\u001b[0;36m1\u001b[0m\u001b[0;34m]\u001b[0m\u001b[0;34m,\u001b[0m \u001b[0;34m'ro'\u001b[0m\u001b[0;34m,\u001b[0m\u001b[0mcolor\u001b[0m\u001b[0;34m=\u001b[0m\u001b[0;34m'green'\u001b[0m\u001b[0;34m)\u001b[0m\u001b[0;34m\u001b[0m\u001b[0;34m\u001b[0m\u001b[0m\n\u001b[0;32m----> 4\u001b[0;31m \u001b[0mplt\u001b[0m\u001b[0;34m.\u001b[0m\u001b[0mplot\u001b[0m\u001b[0;34m(\u001b[0m \u001b[0mdata\u001b[0m\u001b[0;34m[\u001b[0m\u001b[0mcolumns\u001b[0m\u001b[0;34m[\u001b[0m\u001b[0;34m'Perioden'\u001b[0m\u001b[0;34m]\u001b[0m\u001b[0;34m]\u001b[0m\u001b[0;34m[\u001b[0m\u001b[0;34m-\u001b[0m\u001b[0;36m13\u001b[0m\u001b[0;34m:\u001b[0m\u001b[0;34m-\u001b[0m\u001b[0;36m1\u001b[0m\u001b[0;34m]\u001b[0m\u001b[0;34m,\u001b[0m \u001b[0mtrendline\u001b[0m\u001b[0;34m,\u001b[0m\u001b[0mcolor\u001b[0m\u001b[0;34m=\u001b[0m\u001b[0;34m'yellow'\u001b[0m\u001b[0;34m)\u001b[0m\u001b[0;34m\u001b[0m\u001b[0;34m\u001b[0m\u001b[0m\n\u001b[0m\u001b[1;32m      5\u001b[0m \u001b[0;34m\u001b[0m\u001b[0m\n\u001b[1;32m      6\u001b[0m \u001b[0mplt\u001b[0m\u001b[0;34m.\u001b[0m\u001b[0mxticks\u001b[0m\u001b[0;34m(\u001b[0m\u001b[0mrotation\u001b[0m\u001b[0;34m=\u001b[0m\u001b[0;36m90\u001b[0m\u001b[0;34m)\u001b[0m\u001b[0;34m\u001b[0m\u001b[0;34m\u001b[0m\u001b[0m\n",
      "\u001b[0;31mNameError\u001b[0m: name 'trendline' is not defined"
     ]
    },
    {
     "data": {
      "image/png": "[encoded data removed]",
      "text/plain": [
       "<Figure size 432x288 with 1 Axes>"
      ]
     },
     "metadata": {
      "needs_background": "light"
     },
     "output_type": "display_data"
    }
   ],
   "source": [
    "plt.plot( data[columns['Perioden']][-13:-1], data[columns['VertrekNaarAndereGemeente_8']][-13:-1], 'ro')\n",
    "plt.plot( data[columns['Perioden']][-13:-1], data[columns['Bevolkingsgroei_11']][-13:-1], 'ro',color='yellow')\n",
    "plt.plot( data[columns['Perioden']][-13:-1], data[columns['Overledenen_3']][-13:-1], 'ro',color='green')\n",
    "plt.plot( data[columns['Perioden']][-13:-1], trendline,color='yellow')\n",
    "\n",
    "plt.xticks(rotation=90)\n",
    "plt.show()"
   ]
  },
  {
   "cell_type": "code",
   "execution_count": null,
   "metadata": {},
   "outputs": [],
   "source": []
  }
 ],
 "metadata": {
  "kernelspec": {
   "display_name": "Python 3",
   "language": "python",
   "name": "python3"
  },
  "language_info": {
   "codemirror_mode": {
    "name": "ipython",
    "version": 3
   },
   "file_extension": ".py",
   "mimetype": "text/x-python",
   "name": "python",
   "nbconvert_exporter": "python",
   "pygments_lexer": "ipython3",
   "version": "3.7.3"
  }
 },
 "nbformat": 4,
 "nbformat_minor": 2
}
